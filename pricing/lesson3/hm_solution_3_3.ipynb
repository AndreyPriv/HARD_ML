{
 "cells": [
  {
   "cell_type": "markdown",
   "id": "6966e572-1815-4fb8-b3a9-a46ebf20ccf6",
   "metadata": {},
   "source": [
    "# Задание 3: Оптимизация"
   ]
  },
  {
   "cell_type": "code",
   "execution_count": 1,
   "id": "a2519be0-3b1f-4e0a-a56f-e2eeaabc1416",
   "metadata": {},
   "outputs": [],
   "source": [
    "from typing import List, Dict, Any, Tuple, Union, Optional\n",
    "\n",
    "import pandas as pd\n",
    "import numpy as np\n",
    "\n",
    "import matplotlib.pyplot as plt\n",
    "\n",
    "import warnings\n",
    "\n",
    "warnings.filterwarnings(\"ignore\")\n",
    "\n",
    "import logging\n",
    "\n",
    "logging.basicConfig()\n",
    "logger = logging.getLogger(\"model\")\n",
    "logger.setLevel(logging.INFO)"
   ]
  },
  {
   "cell_type": "code",
   "execution_count": 2,
   "id": "3ce6fa20-257a-4d2d-aa69-d44c37e4db0c",
   "metadata": {},
   "outputs": [
    {
     "data": {
      "text/html": [
       "<div>\n",
       "<style scoped>\n",
       "    .dataframe tbody tr th:only-of-type {\n",
       "        vertical-align: middle;\n",
       "    }\n",
       "\n",
       "    .dataframe tbody tr th {\n",
       "        vertical-align: top;\n",
       "    }\n",
       "\n",
       "    .dataframe thead th {\n",
       "        text-align: right;\n",
       "    }\n",
       "</style>\n",
       "<table border=\"1\" class=\"dataframe\">\n",
       "  <thead>\n",
       "    <tr style=\"text-align: right;\">\n",
       "      <th></th>\n",
       "      <th>sku_id</th>\n",
       "      <th>discount</th>\n",
       "      <th>ds</th>\n",
       "    </tr>\n",
       "  </thead>\n",
       "  <tbody>\n",
       "    <tr>\n",
       "      <th>4</th>\n",
       "      <td>2</td>\n",
       "      <td>-0.01</td>\n",
       "      <td>20240101</td>\n",
       "    </tr>\n",
       "    <tr>\n",
       "      <th>15</th>\n",
       "      <td>2</td>\n",
       "      <td>-0.01</td>\n",
       "      <td>20240102</td>\n",
       "    </tr>\n",
       "    <tr>\n",
       "      <th>26</th>\n",
       "      <td>2</td>\n",
       "      <td>-0.01</td>\n",
       "      <td>20240103</td>\n",
       "    </tr>\n",
       "    <tr>\n",
       "      <th>37</th>\n",
       "      <td>2</td>\n",
       "      <td>-0.01</td>\n",
       "      <td>20240104</td>\n",
       "    </tr>\n",
       "    <tr>\n",
       "      <th>48</th>\n",
       "      <td>2</td>\n",
       "      <td>-0.01</td>\n",
       "      <td>20240105</td>\n",
       "    </tr>\n",
       "  </tbody>\n",
       "</table>\n",
       "</div>"
      ],
      "text/plain": [
       "    sku_id  discount        ds\n",
       "4        2     -0.01  20240101\n",
       "15       2     -0.01  20240102\n",
       "26       2     -0.01  20240103\n",
       "37       2     -0.01  20240104\n",
       "48       2     -0.01  20240105"
      ]
     },
     "execution_count": 2,
     "metadata": {},
     "output_type": "execute_result"
    }
   ],
   "source": [
    "# Загрузка данных\n",
    "df = pd.read_csv(\"../hm_solution/data/homework_3_2_solution.csv\")\n",
    "\n",
    "# Сортировка датафрейма по 'orders_num' по убыванию и 'discount' по убыванию\n",
    "df_sorted = df.sort_values(\n",
    "    by=[\"sku_id\", \"ds\", \"orders_num\", \"discount\"], ascending=[True, True, False, False]\n",
    ")\n",
    "\n",
    "# Группировка по 'sku_id' и 'ds', выбор первой строки в каждой группе\n",
    "# После сортировки первая строка будет иметь максимальный 'orders_num' и при равенстве - максимальный 'discount'\n",
    "selected_df = df_sorted.groupby([\"sku_id\", \"ds\"]).head(1)\n",
    "\n",
    "# Выбор необходимых столбцов\n",
    "selected_df = selected_df[[\"sku_id\", \"discount\", \"ds\"]]\n",
    "\n",
    "# Просмотр результатов\n",
    "selected_df.head()"
   ]
  },
  {
   "cell_type": "code",
   "execution_count": 3,
   "id": "3833ac81-5c7c-4f37-8860-a993550cff1e",
   "metadata": {},
   "outputs": [],
   "source": [
    "selected_df.to_csv(\"../hm_solution/data/homework_3_3_solution.csv\", index=False)"
   ]
  },
  {
   "cell_type": "code",
   "execution_count": null,
   "id": "6e2dd464-ea8f-4ba5-bb9a-839037307331",
   "metadata": {},
   "outputs": [],
   "source": []
  }
 ],
 "metadata": {
  "kernelspec": {
   "display_name": "Python 3 (ipykernel)",
   "language": "python",
   "name": "python3"
  },
  "language_info": {
   "codemirror_mode": {
    "name": "ipython",
    "version": 3
   },
   "file_extension": ".py",
   "mimetype": "text/x-python",
   "name": "python",
   "nbconvert_exporter": "python",
   "pygments_lexer": "ipython3",
   "version": "3.12.2"
  }
 },
 "nbformat": 4,
 "nbformat_minor": 5
}
