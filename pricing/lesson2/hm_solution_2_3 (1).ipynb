{
 "cells": [
  {
   "cell_type": "code",
   "execution_count": 1,
   "id": "7a2015ce-23c8-462e-a637-09b5269fb39c",
   "metadata": {},
   "outputs": [],
   "source": [
    "from typing import List, Dict, Any, Tuple, Union, Optional\n",
    "\n",
    "import pandas as pd\n",
    "\n",
    "import matplotlib.pyplot as plt\n",
    "\n",
    "import warnings\n",
    "warnings.filterwarnings(\"ignore\")\n",
    "\n",
    "import logging\n",
    "logging.basicConfig()\n",
    "logger = logging.getLogger(\"back_test\")\n",
    "logger.setLevel(logging.INFO)"
   ]
  },
  {
   "cell_type": "markdown",
   "id": "a8988075-0bcf-4b8b-93a8-b131c39c69b5",
   "metadata": {},
   "source": [
    "# Задание 3"
   ]
  },
  {
   "cell_type": "markdown",
   "id": "43472c72-baff-44ad-bbe8-095c6fc8982f",
   "metadata": {},
   "source": [
    "Отсортируйте алгоритмы по сумме предсказанного количества заказов за период теста от самого большого к самому маленькому"
   ]
  },
  {
   "cell_type": "code",
   "execution_count": 2,
   "id": "0464a8dd-4142-492a-a59e-9a83c29b197a",
   "metadata": {},
   "outputs": [
    {
     "data": {
      "text/html": [
       "<div>\n",
       "<style scoped>\n",
       "    .dataframe tbody tr th:only-of-type {\n",
       "        vertical-align: middle;\n",
       "    }\n",
       "\n",
       "    .dataframe tbody tr th {\n",
       "        vertical-align: top;\n",
       "    }\n",
       "\n",
       "    .dataframe thead th {\n",
       "        text-align: right;\n",
       "    }\n",
       "</style>\n",
       "<table border=\"1\" class=\"dataframe\">\n",
       "  <thead>\n",
       "    <tr style=\"text-align: right;\">\n",
       "      <th></th>\n",
       "      <th>algo</th>\n",
       "      <th>ds</th>\n",
       "      <th>orders_num</th>\n",
       "    </tr>\n",
       "  </thead>\n",
       "  <tbody>\n",
       "    <tr>\n",
       "      <th>0</th>\n",
       "      <td>algo_1</td>\n",
       "      <td>20231008</td>\n",
       "      <td>279686.60</td>\n",
       "    </tr>\n",
       "    <tr>\n",
       "      <th>1</th>\n",
       "      <td>algo_1</td>\n",
       "      <td>20231009</td>\n",
       "      <td>322938.31</td>\n",
       "    </tr>\n",
       "    <tr>\n",
       "      <th>2</th>\n",
       "      <td>algo_1</td>\n",
       "      <td>20231010</td>\n",
       "      <td>349101.83</td>\n",
       "    </tr>\n",
       "    <tr>\n",
       "      <th>3</th>\n",
       "      <td>algo_1</td>\n",
       "      <td>20231011</td>\n",
       "      <td>223993.36</td>\n",
       "    </tr>\n",
       "    <tr>\n",
       "      <th>4</th>\n",
       "      <td>algo_1</td>\n",
       "      <td>20231012</td>\n",
       "      <td>265142.84</td>\n",
       "    </tr>\n",
       "  </tbody>\n",
       "</table>\n",
       "</div>"
      ],
      "text/plain": [
       "     algo        ds  orders_num\n",
       "0  algo_1  20231008   279686.60\n",
       "1  algo_1  20231009   322938.31\n",
       "2  algo_1  20231010   349101.83\n",
       "3  algo_1  20231011   223993.36\n",
       "4  algo_1  20231012   265142.84"
      ]
     },
     "execution_count": 2,
     "metadata": {},
     "output_type": "execute_result"
    }
   ],
   "source": [
    "result_2_df = pd.read_csv(\"./data/homework_2_2_solution.csv\")\n",
    "result_2_df.head()"
   ]
  },
  {
   "cell_type": "code",
   "execution_count": 3,
   "id": "710d5766-49ee-48ed-9f5e-d5eacdf09a3e",
   "metadata": {},
   "outputs": [
    {
     "data": {
      "text/html": [
       "<div>\n",
       "<style scoped>\n",
       "    .dataframe tbody tr th:only-of-type {\n",
       "        vertical-align: middle;\n",
       "    }\n",
       "\n",
       "    .dataframe tbody tr th {\n",
       "        vertical-align: top;\n",
       "    }\n",
       "\n",
       "    .dataframe thead th {\n",
       "        text-align: right;\n",
       "    }\n",
       "</style>\n",
       "<table border=\"1\" class=\"dataframe\">\n",
       "  <thead>\n",
       "    <tr style=\"text-align: right;\">\n",
       "      <th></th>\n",
       "      <th>algo</th>\n",
       "      <th>orders_num</th>\n",
       "    </tr>\n",
       "  </thead>\n",
       "  <tbody>\n",
       "    <tr>\n",
       "      <th>4</th>\n",
       "      <td>algo_5</td>\n",
       "      <td>4282026.0</td>\n",
       "    </tr>\n",
       "    <tr>\n",
       "      <th>0</th>\n",
       "      <td>algo_1</td>\n",
       "      <td>4262385.0</td>\n",
       "    </tr>\n",
       "    <tr>\n",
       "      <th>2</th>\n",
       "      <td>algo_3</td>\n",
       "      <td>4227638.0</td>\n",
       "    </tr>\n",
       "    <tr>\n",
       "      <th>1</th>\n",
       "      <td>algo_2</td>\n",
       "      <td>4215162.0</td>\n",
       "    </tr>\n",
       "    <tr>\n",
       "      <th>3</th>\n",
       "      <td>algo_4</td>\n",
       "      <td>4194876.0</td>\n",
       "    </tr>\n",
       "  </tbody>\n",
       "</table>\n",
       "</div>"
      ],
      "text/plain": [
       "     algo  orders_num\n",
       "4  algo_5   4282026.0\n",
       "0  algo_1   4262385.0\n",
       "2  algo_3   4227638.0\n",
       "1  algo_2   4215162.0\n",
       "3  algo_4   4194876.0"
      ]
     },
     "execution_count": 3,
     "metadata": {},
     "output_type": "execute_result"
    }
   ],
   "source": [
    "result_2_df.groupby(\"algo\").agg({\"orders_num\": \"sum\"}).reset_index().sort_values(\"orders_num\", ascending=False).round()"
   ]
  },
  {
   "cell_type": "code",
   "execution_count": null,
   "id": "b4835ef0-8031-46fe-8abb-5ac2e9ea567b",
   "metadata": {},
   "outputs": [],
   "source": []
  }
 ],
 "metadata": {
  "kernelspec": {
   "display_name": "Python 3 (ipykernel)",
   "language": "python",
   "name": "python3"
  },
  "language_info": {
   "codemirror_mode": {
    "name": "ipython",
    "version": 3
   },
   "file_extension": ".py",
   "mimetype": "text/x-python",
   "name": "python",
   "nbconvert_exporter": "python",
   "pygments_lexer": "ipython3",
   "version": "3.8.0"
  }
 },
 "nbformat": 4,
 "nbformat_minor": 5
}
